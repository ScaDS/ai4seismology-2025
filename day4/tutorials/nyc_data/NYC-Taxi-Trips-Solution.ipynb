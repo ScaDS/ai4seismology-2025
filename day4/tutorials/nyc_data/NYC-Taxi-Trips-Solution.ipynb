{
 "cells": [
  {
   "cell_type": "markdown",
   "metadata": {},
   "source": [
    "# Taxi Trips (solution)"
   ]
  },
  {
   "cell_type": "code",
   "execution_count": null,
   "metadata": {},
   "outputs": [],
   "source": [
    "%%bash\n",
    "mkdir -p ~/.local/share/jupyter/kernels/ai4seismology-bigdata\n",
    "cp /data/horse/ws/s4122485-ai4seismology_dev/thursday_bigdata/kernel.json ~/.local/share/jupyter/kernels/ai4seismology-bigdata"
   ]
  },
  {
   "cell_type": "markdown",
   "metadata": {},
   "source": [
    "# Select ai4seismology-bigdata kernel"
   ]
  },
  {
   "cell_type": "code",
   "execution_count": null,
   "metadata": {},
   "outputs": [],
   "source": [
    "import sys"
   ]
  },
  {
   "cell_type": "code",
   "execution_count": null,
   "metadata": {},
   "outputs": [],
   "source": [
    "!{sys.executable} -m pip install --user --upgrade ipympl jupyter_leaflet leafmap ipyleaflet"
   ]
  },
  {
   "cell_type": "markdown",
   "metadata": {},
   "source": [
    "# Restart the Jupyter Server"
   ]
  },
  {
   "cell_type": "code",
   "execution_count": 1,
   "metadata": {
    "editable": false,
    "slideshow": {
     "slide_type": ""
    },
    "tags": []
   },
   "outputs": [
    {
     "data": {
      "text/html": [
       "<style>pre { white-space: pre !important; }</style>"
      ],
      "text/plain": [
       "<IPython.core.display.HTML object>"
      ]
     },
     "metadata": {},
     "output_type": "display_data"
    }
   ],
   "source": [
    "# To enable horizontal scrolling\n",
    "from IPython.display import display, HTML\n",
    "display(HTML(\"<style>pre { white-space: pre !important; }</style>\"))"
   ]
  },
  {
   "cell_type": "markdown",
   "metadata": {
    "editable": false,
    "slideshow": {
     "slide_type": ""
    },
    "tags": []
   },
   "source": [
    "# Initialisation of Spark cluster"
   ]
  },
  {
   "cell_type": "code",
   "execution_count": 2,
   "metadata": {
    "editable": true,
    "slideshow": {
     "slide_type": ""
    },
    "tags": []
   },
   "outputs": [],
   "source": [
    "# Note: Skip if running on local machine\n",
    "# Import utilities required to run big data frameworks on ZIH HPC systems\n",
    "from big_data_utils.environment_utils import ClusterConfig\n",
    "from big_data_utils.cluster_utils import ClusterService\n",
    "from big_data_utils.utils import kill_java_processes_by_name"
   ]
  },
  {
   "cell_type": "code",
   "execution_count": 3,
   "metadata": {
    "editable": true,
    "slideshow": {
     "slide_type": ""
    },
    "tags": []
   },
   "outputs": [
    {
     "name": "stdout",
     "output_type": "stream",
     "text": [
      "[INFO ] [08/05/2025 11:11:45] - Removing existing configuration directory: './my-conf'\n",
      "[INFO ] [08/05/2025 11:11:45] - Environment configuration initialized:\n",
      "[INFO ] [08/05/2025 11:11:45] -   • Framework:        SPARK\n",
      "[INFO ] [08/05/2025 11:11:45] -   • Config template:  /software/rapids/r24.04/Spark/3.5.0-GCC-13.2.0-hadoop3/conf\n",
      "[INFO ] [08/05/2025 11:11:45] -   • Config target:    ./my-conf\n",
      "[INFO ] [08/05/2025 11:11:45] -   • Log directory:    ./my-conf/log\n",
      "[INFO ] [08/05/2025 11:11:45] - Initializing configuration from template.\n",
      "[INFO ] [08/05/2025 11:11:47] - Cluster topology:\n",
      "[INFO ] [08/05/2025 11:11:47] -   • Master node:  n1498:7676\n",
      "[INFO ] [08/05/2025 11:11:47] -   • Worker nodes: n1498\n",
      "[INFO ] [08/05/2025 11:11:48] -   • Spark master URL: spark://n1498:7676\n",
      "[INFO ] [08/05/2025 11:11:48] - Once the cluster is started, one can access the spark GUI in browser using port forwarding.\n",
      "[INFO ] [08/05/2025 11:11:48] - To access, spark GUI, type following in your terminal on local machine:\n",
      "[INFO ] [08/05/2025 11:11:48] -   ssh s4122485@login1.barnard.hpc.tu-dresden.de -L 4040:n1498:4040 -L 8080:n1498:8080 -L 8081:n1498:8081\n",
      "[INFO ] [08/05/2025 11:11:48] - Once the port is forwarded, one can access the GUI, by accessing\n",
      "[INFO ] [08/05/2025 11:11:48] -   • http://localhost:4040\n",
      "[INFO ] [08/05/2025 11:11:48] -   • http://localhost:8080\n",
      "[INFO ] [08/05/2025 11:11:48] -   • http://localhost:8081\n"
     ]
    }
   ],
   "source": [
    "# Note: Skip if running on local machine\n",
    "# Configure the cluster environment\n",
    "myconfig = ClusterConfig(fw_name=\"spark\")\n",
    "#myconfig.configure_env(conf_dest=\"./my-conf\", conf_template=\"/projects/p_scads_bigdatahpc/.template/spark\")\n",
    "myconfig.configure_env(conf_dest=\"./my-conf\",randomize_ports=True)"
   ]
  },
  {
   "cell_type": "code",
   "execution_count": 4,
   "metadata": {},
   "outputs": [
    {
     "name": "stdout",
     "output_type": "stream",
     "text": [
      "[INFO ] [08/05/2025 11:11:49] - Currently, following java processes are running:\n",
      "[INFO ] [08/05/2025 11:11:50] - \tProcess ID, Name \n"
     ]
    }
   ],
   "source": [
    "# Initialize the cluster service class\n",
    "mycluster = ClusterService(\"spark\")\n",
    "\n",
    "# Check which processes are running\n",
    "mycluster.check_status()"
   ]
  },
  {
   "cell_type": "code",
   "execution_count": 5,
   "metadata": {},
   "outputs": [
    {
     "name": "stdout",
     "output_type": "stream",
     "text": [
      "[INFO ] [08/05/2025 11:11:51] - Starting SPARK cluster.\n",
      "[INFO ] [08/05/2025 11:11:57] - Logging cluster startup info at: ./my-conf/spark/log/cluster.log\n",
      "\n",
      "----Performance Data----\n",
      "Duration: 5.53\n",
      "\n",
      "CPU Util (Across CPUs)       \tAVG: 17.06\t MIN: 0.00\t MAX: 100.00\n",
      "Mem Util in GB (Across nodes)\tAVG: 218.53\t MIN: 218.43\t MAX: 218.63\n",
      "IO Ops (excl.) Read          \tTotal: 30261\n",
      "               Write         \tTotal: 3776\n",
      "IO Bytes (excl.) Read        \tTotal: 55.62\n",
      "                 Write       \tTotal: 0.61\n"
     ]
    }
   ],
   "source": [
    "# Note: Skip if running on local machine\n",
    "# Start Spark standalone cluster\n",
    "mycluster.start_cluster()"
   ]
  },
  {
   "cell_type": "code",
   "execution_count": 6,
   "metadata": {},
   "outputs": [
    {
     "name": "stdout",
     "output_type": "stream",
     "text": [
      "[INFO ] [08/05/2025 11:11:58] - Currently, following java processes are running:\n",
      "[INFO ] [08/05/2025 11:11:58] - \tProcess ID, Name \n",
      "[INFO ] [08/05/2025 11:11:58] - \t387396, Master\n",
      "[INFO ] [08/05/2025 11:11:58] - \t387464, Worker\n"
     ]
    }
   ],
   "source": [
    "# Note: Skip if running on local machine\n",
    "# Check if the master and worker processes are started or not\n",
    "mycluster.check_status()"
   ]
  },
  {
   "attachments": {},
   "cell_type": "markdown",
   "metadata": {
    "editable": false,
    "slideshow": {
     "slide_type": ""
    },
    "tags": []
   },
   "source": [
    "# Download of NYC taxi trips and taxi zone file\n",
    "Modify the base directory in the following cell if you want to save data files in different directories."
   ]
  },
  {
   "cell_type": "code",
   "execution_count": 7,
   "metadata": {
    "editable": true,
    "slideshow": {
     "slide_type": ""
    },
    "tags": []
   },
   "outputs": [],
   "source": [
    "base_directory = \"./data\""
   ]
  },
  {
   "cell_type": "code",
   "execution_count": 8,
   "metadata": {},
   "outputs": [],
   "source": [
    "import os\n",
    "import wget\n",
    "import zipfile\n",
    "\n",
    "base_directory = os.path.abspath(base_directory)\n",
    "os.environ[\"BASEDIRECTORY\"] = base_directory\n",
    "\n",
    "# Download yellow trip data\n",
    "data_directory = base_directory + \"/taxidata\"\n",
    "data_file = \"yellow_tripdata_2022-01.parquet\"\n",
    "data_path = data_directory + \"/\" + data_file\n",
    "if not os.path.exists(data_path):\n",
    "    os.makedirs(data_directory, exist_ok=True)\n",
    "if not os.path.exists(data_path):\n",
    "    wget.download(\"https://d37ci6vzurychx.cloudfront.net/trip-data/\" + data_file, out = data_directory)   \n",
    "\n",
    "# Download zone data\n",
    "zone_directory = base_directory + \"/taxizonesdata\"\n",
    "if not os.path.isdir(zone_directory):\n",
    "    os.makedirs(zone_directory, exist_ok=True)\n",
    "\n",
    "zone_zipfile = \"taxi_zones.zip\"\n",
    "zone_zipfile_path = zone_directory + \"/\" + zone_zipfile\n",
    "if not os.path.exists(zone_zipfile_path):\n",
    "    wget.download(\"https://d37ci6vzurychx.cloudfront.net/misc/\" + zone_zipfile, out = zone_directory)\n",
    "    with zipfile.ZipFile(zone_zipfile_path, \"r\") as zip_ref:\n",
    "        zip_ref.extractall(zone_directory)\n",
    "        zip_ref.close()\n",
    "    \n",
    "zone_lookup_file = \"taxi_zone_lookup.csv\"\n",
    "if not os.path.exists(zone_directory + \"/\" + zone_lookup_file):\n",
    "    wget.download(\"https://d37ci6vzurychx.cloudfront.net/misc/\" + zone_lookup_file, out = zone_directory)"
   ]
  },
  {
   "attachments": {},
   "cell_type": "markdown",
   "metadata": {
    "editable": false,
    "slideshow": {
     "slide_type": ""
    },
    "tags": []
   },
   "source": [
    "# Initialisation of Spark context"
   ]
  },
  {
   "cell_type": "code",
   "execution_count": 9,
   "metadata": {
    "editable": true,
    "slideshow": {
     "slide_type": ""
    },
    "tags": []
   },
   "outputs": [
    {
     "name": "stdout",
     "output_type": "stream",
     "text": [
      "/software/rapids/r24.04/Spark/3.5.0-GCC-13.2.0-hadoop3\n"
     ]
    }
   ],
   "source": [
    "import findspark\n",
    "import os\n",
    "findspark.init(os.environ['SPARK_HOME'])\n",
    "print(os.environ['SPARK_HOME'])"
   ]
  },
  {
   "cell_type": "code",
   "execution_count": 10,
   "metadata": {},
   "outputs": [
    {
     "name": "stderr",
     "output_type": "stream",
     "text": [
      "Setting default log level to \"WARN\".\n",
      "To adjust logging level use sc.setLogLevel(newLevel). For SparkR, use setLogLevel(newLevel).\n",
      "25/05/08 11:12:06 WARN NativeCodeLoader: Unable to load native-hadoop library for your platform... using builtin-java classes where applicable\n"
     ]
    },
    {
     "name": "stdout",
     "output_type": "stream",
     "text": [
      "\n",
      "----Performance Data----\n",
      "Duration: 6.21\n",
      "\n",
      "CPU Util (Across CPUs)       \tAVG: 16.10\t MIN: 0.00\t MAX: 66.20\n",
      "Mem Util in GB (Across nodes)\tAVG: 219.03\t MIN: 218.94\t MAX: 219.14\n",
      "IO Ops (excl.) Read          \tTotal: 32456\n",
      "               Write         \tTotal: 3940\n",
      "IO Bytes (excl.) Read        \tTotal: 86.50\n",
      "                 Write       \tTotal: 0.77\n"
     ]
    }
   ],
   "source": [
    "import platform\n",
    "import pyspark\n",
    "from pyspark import SparkContext\n",
    "from pyspark.sql import SparkSession\n",
    "\n",
    "spark = SparkSession.builder \\\n",
    "    .master(f\"spark://{myconfig.get_master_host()}:{myconfig.get_master_port()}\") \\\n",
    "    .appName(\"Python Spark Map Visualization of NYC taxi trips\") \\\n",
    "    .getOrCreate()\n",
    "\n",
    "sc = spark.sparkContext"
   ]
  },
  {
   "cell_type": "code",
   "execution_count": 11,
   "metadata": {},
   "outputs": [
    {
     "name": "stdout",
     "output_type": "stream",
     "text": [
      "[INFO ] [08/05/2025 11:12:09] - Currently, following java processes are running:\n",
      "[INFO ] [08/05/2025 11:12:10] - \tProcess ID, Name \n",
      "[INFO ] [08/05/2025 11:12:10] - \t387621, SparkSubmit\n",
      "[INFO ] [08/05/2025 11:12:10] - \t387396, Master\n",
      "[INFO ] [08/05/2025 11:12:10] - \t387725, CoarseGrainedExecutorBackend\n",
      "[INFO ] [08/05/2025 11:12:10] - \t387464, Worker\n"
     ]
    }
   ],
   "source": [
    "# Check running java processes\n",
    "mycluster.check_status()"
   ]
  },
  {
   "cell_type": "code",
   "execution_count": 12,
   "metadata": {},
   "outputs": [
    {
     "name": "stderr",
     "output_type": "stream",
     "text": [
      "                                                                                \r"
     ]
    },
    {
     "name": "stdout",
     "output_type": "stream",
     "text": [
      "\n",
      "----Performance Data----\n",
      "Duration: 5.29\n",
      "\n",
      "CPU Util (Across CPUs)       \tAVG: 18.45\t MIN: 0.00\t MAX: 52.80\n",
      "Mem Util in GB (Across nodes)\tAVG: 220.96\t MIN: 219.65\t MAX: 221.68\n",
      "IO Ops (excl.) Read          \tTotal: 34439\n",
      "               Write         \tTotal: 4027\n",
      "IO Bytes (excl.) Read        \tTotal: 86.53\n",
      "                 Write       \tTotal: 0.83\n"
     ]
    }
   ],
   "source": [
    "trips = spark.read.parquet(base_directory + \"/taxidata/yellow_tripdata_2022-01.parquet\")"
   ]
  },
  {
   "cell_type": "code",
   "execution_count": 13,
   "metadata": {},
   "outputs": [
    {
     "data": {
      "text/plain": [
       "[('VendorID', 'bigint'),\n",
       " ('tpep_pickup_datetime', 'timestamp_ntz'),\n",
       " ('tpep_dropoff_datetime', 'timestamp_ntz'),\n",
       " ('passenger_count', 'double'),\n",
       " ('trip_distance', 'double'),\n",
       " ('RatecodeID', 'double'),\n",
       " ('store_and_fwd_flag', 'string'),\n",
       " ('PULocationID', 'bigint'),\n",
       " ('DOLocationID', 'bigint'),\n",
       " ('payment_type', 'bigint'),\n",
       " ('fare_amount', 'double'),\n",
       " ('extra', 'double'),\n",
       " ('mta_tax', 'double'),\n",
       " ('tip_amount', 'double'),\n",
       " ('tolls_amount', 'double'),\n",
       " ('improvement_surcharge', 'double'),\n",
       " ('total_amount', 'double'),\n",
       " ('congestion_surcharge', 'double'),\n",
       " ('airport_fee', 'double')]"
      ]
     },
     "execution_count": 13,
     "metadata": {},
     "output_type": "execute_result"
    }
   ],
   "source": [
    "trips.dtypes"
   ]
  },
  {
   "cell_type": "code",
   "execution_count": 14,
   "metadata": {
    "scrolled": true
   },
   "outputs": [
    {
     "name": "stderr",
     "output_type": "stream",
     "text": [
      "                                                                                \r"
     ]
    },
    {
     "name": "stdout",
     "output_type": "stream",
     "text": [
      "+--------+--------------------+---------------------+---------------+-------------+----------+------------------+------------+------------+------------+-----------+-----+-------+----------+------------+---------------------+------------+--------------------+-----------+\n",
      "|VendorID|tpep_pickup_datetime|tpep_dropoff_datetime|passenger_count|trip_distance|RatecodeID|store_and_fwd_flag|PULocationID|DOLocationID|payment_type|fare_amount|extra|mta_tax|tip_amount|tolls_amount|improvement_surcharge|total_amount|congestion_surcharge|airport_fee|\n",
      "+--------+--------------------+---------------------+---------------+-------------+----------+------------------+------------+------------+------------+-----------+-----+-------+----------+------------+---------------------+------------+--------------------+-----------+\n",
      "|       1| 2022-01-01 00:35:40|  2022-01-01 00:53:29|            2.0|          3.8|       1.0|                 N|         142|         236|           1|       14.5|  3.0|    0.5|      3.65|         0.0|                  0.3|       21.95|                 2.5|        0.0|\n",
      "|       1| 2022-01-01 00:33:43|  2022-01-01 00:42:07|            1.0|          2.1|       1.0|                 N|         236|          42|           1|        8.0|  0.5|    0.5|       4.0|         0.0|                  0.3|        13.3|                 0.0|        0.0|\n",
      "|       2| 2022-01-01 00:53:21|  2022-01-01 01:02:19|            1.0|         0.97|       1.0|                 N|         166|         166|           1|        7.5|  0.5|    0.5|      1.76|         0.0|                  0.3|       10.56|                 0.0|        0.0|\n",
      "|       2| 2022-01-01 00:25:21|  2022-01-01 00:35:23|            1.0|         1.09|       1.0|                 N|         114|          68|           2|        8.0|  0.5|    0.5|       0.0|         0.0|                  0.3|        11.8|                 2.5|        0.0|\n",
      "|       2| 2022-01-01 00:36:48|  2022-01-01 01:14:20|            1.0|          4.3|       1.0|                 N|          68|         163|           1|       23.5|  0.5|    0.5|       3.0|         0.0|                  0.3|        30.3|                 2.5|        0.0|\n",
      "|       1| 2022-01-01 00:40:15|  2022-01-01 01:09:48|            1.0|         10.3|       1.0|                 N|         138|         161|           1|       33.0|  3.0|    0.5|      13.0|        6.55|                  0.3|       56.35|                 2.5|        0.0|\n",
      "|       2| 2022-01-01 00:20:50|  2022-01-01 00:34:58|            1.0|         5.07|       1.0|                 N|         233|          87|           1|       17.0|  0.5|    0.5|       5.2|         0.0|                  0.3|        26.0|                 2.5|        0.0|\n",
      "|       2| 2022-01-01 00:13:04|  2022-01-01 00:22:45|            1.0|         2.02|       1.0|                 N|         238|         152|           2|        9.0|  0.5|    0.5|       0.0|         0.0|                  0.3|        12.8|                 2.5|        0.0|\n",
      "|       2| 2022-01-01 00:30:02|  2022-01-01 00:44:49|            1.0|         2.71|       1.0|                 N|         166|         236|           1|       12.0|  0.5|    0.5|      2.25|         0.0|                  0.3|       18.05|                 2.5|        0.0|\n",
      "|       2| 2022-01-01 00:48:52|  2022-01-01 00:53:28|            1.0|         0.78|       1.0|                 N|         236|         141|           2|        5.0|  0.5|    0.5|       0.0|         0.0|                  0.3|         8.8|                 2.5|        0.0|\n",
      "|       2| 2022-01-01 00:55:03|  2022-01-01 01:04:25|            1.0|         1.91|       1.0|                 N|         141|         229|           2|        8.5|  0.5|    0.5|       0.0|         0.0|                  0.3|        12.3|                 2.5|        0.0|\n",
      "|       2| 2022-01-01 00:31:06|  2022-01-01 00:34:14|            3.0|         0.82|       1.0|                 N|         114|          90|           2|        4.5|  0.5|    0.5|       0.0|         0.0|                  0.3|         8.3|                 2.5|        0.0|\n",
      "|       2| 2022-01-01 00:41:07|  2022-01-01 00:44:46|            3.0|         0.73|       1.0|                 N|         234|         113|           2|        4.5|  0.5|    0.5|       0.0|         0.0|                  0.3|         8.3|                 2.5|        0.0|\n",
      "|       2| 2022-01-01 00:56:34|  2022-01-01 01:12:04|            2.0|         2.16|       1.0|                 N|         246|          79|           1|       11.5|  0.5|    0.5|      3.06|         0.0|                  0.3|       18.36|                 2.5|        0.0|\n",
      "|       2| 2022-01-01 00:39:46|  2022-01-01 00:47:36|            4.0|         1.43|       1.0|                 N|          43|         140|           1|        7.5|  0.5|    0.5|      2.26|         0.0|                  0.3|       13.56|                 2.5|        0.0|\n",
      "|       2| 2022-01-01 00:58:06|  2022-01-01 01:05:45|            1.0|         1.58|       1.0|                 N|         239|         151|           2|        8.0|  0.5|    0.5|       0.0|         0.0|                  0.3|        11.8|                 2.5|        0.0|\n",
      "|       1| 2022-01-01 00:33:52|  2022-01-01 00:47:28|            3.0|          4.2|       1.0|                 N|         148|         141|           1|       14.0|  2.5|    0.5|      3.45|         0.0|                  0.3|       20.75|                 2.5|        0.0|\n",
      "|       1| 2022-01-01 00:53:54|  2022-01-01 01:05:20|            2.0|          2.2|       1.0|                 N|         237|         107|           1|        9.5|  2.5|    0.5|      2.55|         0.0|                  0.3|       15.35|                 2.5|        0.0|\n",
      "|       1| 2022-01-01 00:00:44|  2022-01-01 00:05:29|            1.0|          0.2|       1.0|                 N|           7|           7|           2|        5.0|  0.5|    0.5|       0.0|         0.0|                  0.3|         6.3|                 0.0|        0.0|\n",
      "|       1| 2022-01-01 00:35:50|  2022-01-01 00:48:33|            2.0|          3.9|       1.0|                 N|         107|         263|           1|       13.0|  3.0|    0.5|      3.35|         0.0|                  0.3|       20.15|                 2.5|        0.0|\n",
      "+--------+--------------------+---------------------+---------------+-------------+----------+------------------+------------+------------+------------+-----------+-----+-------+----------+------------+---------------------+------------+--------------------+-----------+\n",
      "only showing top 20 rows\n",
      "\n",
      "\n",
      "----Performance Data----\n",
      "Duration: 5.69\n",
      "\n",
      "CPU Util (Across CPUs)       \tAVG: 23.49\t MIN: 0.00\t MAX: 75.00\n",
      "Mem Util in GB (Across nodes)\tAVG: 219.78\t MIN: 219.70\t MAX: 219.86\n",
      "IO Ops (excl.) Read          \tTotal: 34755\n",
      "               Write         \tTotal: 4097\n",
      "IO Bytes (excl.) Read        \tTotal: 86.56\n",
      "                 Write       \tTotal: 0.89\n"
     ]
    }
   ],
   "source": [
    "trips.show()"
   ]
  },
  {
   "attachments": {},
   "cell_type": "markdown",
   "metadata": {
    "editable": false,
    "slideshow": {
     "slide_type": ""
    },
    "tags": []
   },
   "source": [
    "# Grouping using groupBy"
   ]
  },
  {
   "cell_type": "code",
   "execution_count": 15,
   "metadata": {},
   "outputs": [
    {
     "name": "stderr",
     "output_type": "stream",
     "text": [
      "                                                                                \r"
     ]
    },
    {
     "name": "stdout",
     "output_type": "stream",
     "text": [
      "+--------+-------+\n",
      "|VendorID|  count|\n",
      "+--------+-------+\n",
      "|       6|   5563|\n",
      "|       5|     36|\n",
      "|       1| 742273|\n",
      "|       2|1716059|\n",
      "+--------+-------+\n",
      "\n"
     ]
    }
   ],
   "source": [
    "# using groupBy\n",
    "trips.groupBy(\"VendorID\").count().show()"
   ]
  },
  {
   "attachments": {},
   "cell_type": "markdown",
   "metadata": {
    "editable": false,
    "slideshow": {
     "slide_type": ""
    },
    "tags": []
   },
   "source": [
    "# Exercise 1\n",
    "Count trips grouped by passengers.\n",
    "\n",
    "Are there unexpected values? How can they be interpreted? Find more information on https://www1.nyc.gov/site/tlc/about/tlc-trip-record-data.page."
   ]
  },
  {
   "cell_type": "code",
   "execution_count": 16,
   "metadata": {
    "editable": true,
    "slideshow": {
     "slide_type": ""
    },
    "tags": []
   },
   "outputs": [
    {
     "name": "stdout",
     "output_type": "stream",
     "text": [
      "+---------------+-------+\n",
      "|passenger_count|  count|\n",
      "+---------------+-------+\n",
      "|            8.0|      8|\n",
      "|            0.0|  52061|\n",
      "|            7.0|      9|\n",
      "|           NULL|  71503|\n",
      "|            1.0|1794055|\n",
      "|            4.0|  35321|\n",
      "|            3.0|  84570|\n",
      "|            2.0| 343026|\n",
      "|            6.0|  32037|\n",
      "|            5.0|  51338|\n",
      "|            9.0|      3|\n",
      "+---------------+-------+\n",
      "\n"
     ]
    }
   ],
   "source": [
    "trips.groupBy(\"passenger_count\").count().show() #add something here"
   ]
  },
  {
   "attachments": {},
   "cell_type": "markdown",
   "metadata": {
    "editable": true,
    "slideshow": {
     "slide_type": ""
    },
    "tags": []
   },
   "source": [
    "# Exercise 2\n",
    "Find the minimal distance for these groups. Are there unexpected values? How can they be interpreted?"
   ]
  },
  {
   "cell_type": "code",
   "execution_count": 17,
   "metadata": {
    "editable": true,
    "slideshow": {
     "slide_type": ""
    },
    "tags": []
   },
   "outputs": [
    {
     "name": "stdout",
     "output_type": "stream",
     "text": [
      "+---------------+------------------+\n",
      "|passenger_count|min(trip_distance)|\n",
      "+---------------+------------------+\n",
      "|            8.0|               0.0|\n",
      "|            0.0|               0.0|\n",
      "|            7.0|               0.0|\n",
      "|           NULL|               0.0|\n",
      "|            1.0|               0.0|\n",
      "|            4.0|               0.0|\n",
      "|            3.0|               0.0|\n",
      "|            2.0|               0.0|\n",
      "|            6.0|               0.0|\n",
      "|            5.0|               0.0|\n",
      "|            9.0|               0.0|\n",
      "+---------------+------------------+\n",
      "\n"
     ]
    }
   ],
   "source": [
    "trips.groupBy(\"passenger_count\").min(\"trip_distance\").show() #add something here"
   ]
  },
  {
   "attachments": {},
   "cell_type": "markdown",
   "metadata": {
    "editable": false,
    "slideshow": {
     "slide_type": ""
    },
    "tags": []
   },
   "source": [
    "# Exercise 3\n",
    "Remove all trip distances of 0.0 miles from the previous result. What do you expect?"
   ]
  },
  {
   "cell_type": "code",
   "execution_count": 18,
   "metadata": {
    "editable": true,
    "slideshow": {
     "slide_type": ""
    },
    "tags": []
   },
   "outputs": [
    {
     "name": "stderr",
     "output_type": "stream",
     "text": [
      "                                                                                \r"
     ]
    },
    {
     "name": "stdout",
     "output_type": "stream",
     "text": [
      "+---------------+------------------+\n",
      "|passenger_count|min(trip_distance)|\n",
      "+---------------+------------------+\n",
      "|            8.0|              4.09|\n",
      "|            0.0|              0.01|\n",
      "|            7.0|              0.32|\n",
      "|           NULL|              0.01|\n",
      "|            1.0|              0.01|\n",
      "|            4.0|              0.01|\n",
      "|            3.0|              0.01|\n",
      "|            2.0|              0.01|\n",
      "|            6.0|              0.01|\n",
      "|            5.0|              0.01|\n",
      "|            9.0|              0.12|\n",
      "+---------------+------------------+\n",
      "\n"
     ]
    }
   ],
   "source": [
    "trips.filter(trips.trip_distance > 0.0).groupby(\"passenger_count\").min(\"trip_distance\").show() #add something here"
   ]
  },
  {
   "attachments": {},
   "cell_type": "markdown",
   "metadata": {
    "editable": false,
    "slideshow": {
     "slide_type": ""
    },
    "tags": []
   },
   "source": [
    "# SQL Queries"
   ]
  },
  {
   "cell_type": "code",
   "execution_count": 19,
   "metadata": {},
   "outputs": [],
   "source": [
    "from pyspark.sql.types import *\n",
    "\n",
    "sqlContext = SparkSession.builder.getOrCreate()"
   ]
  },
  {
   "cell_type": "code",
   "execution_count": 20,
   "metadata": {},
   "outputs": [],
   "source": [
    "# Create a temporary view from the DataFrame\n",
    "trips.createOrReplaceTempView(\"trips\")"
   ]
  },
  {
   "cell_type": "code",
   "execution_count": 21,
   "metadata": {},
   "outputs": [
    {
     "name": "stdout",
     "output_type": "stream",
     "text": [
      "+-----------+\n",
      "|fare_amount|\n",
      "+-----------+\n",
      "|       33.0|\n",
      "|       17.0|\n",
      "|       20.0|\n",
      "|       34.5|\n",
      "|       21.0|\n",
      "|       16.0|\n",
      "|       18.5|\n",
      "|       52.0|\n",
      "|       52.0|\n",
      "|       19.5|\n",
      "|       23.5|\n",
      "|       52.0|\n",
      "|       52.0|\n",
      "|       24.5|\n",
      "|       21.5|\n",
      "|       52.0|\n",
      "|       19.0|\n",
      "|       33.0|\n",
      "|       45.5|\n",
      "|       20.5|\n",
      "+-----------+\n",
      "only showing top 20 rows\n",
      "\n"
     ]
    }
   ],
   "source": [
    "# Apply a SQL query\n",
    "query = \"SELECT fare_amount FROM trips WHERE trip_distance>=5\"\n",
    "sqlContext.sql(query).show()"
   ]
  },
  {
   "attachments": {},
   "cell_type": "markdown",
   "metadata": {
    "editable": false,
    "slideshow": {
     "slide_type": ""
    },
    "tags": []
   },
   "source": [
    "# Exercise 4\n",
    "Rewrite the previous statement without SQL, but with a functional statement."
   ]
  },
  {
   "cell_type": "code",
   "execution_count": 22,
   "metadata": {
    "editable": true,
    "slideshow": {
     "slide_type": ""
    },
    "tags": []
   },
   "outputs": [
    {
     "name": "stdout",
     "output_type": "stream",
     "text": [
      "+-----------+\n",
      "|fare_amount|\n",
      "+-----------+\n",
      "|       33.0|\n",
      "|       17.0|\n",
      "|       20.0|\n",
      "|       34.5|\n",
      "|       21.0|\n",
      "|       16.0|\n",
      "|       18.5|\n",
      "|       52.0|\n",
      "|       52.0|\n",
      "|       19.5|\n",
      "|       23.5|\n",
      "|       52.0|\n",
      "|       52.0|\n",
      "|       24.5|\n",
      "|       21.5|\n",
      "|       52.0|\n",
      "|       19.0|\n",
      "|       33.0|\n",
      "|       45.5|\n",
      "|       20.5|\n",
      "+-----------+\n",
      "only showing top 20 rows\n",
      "\n"
     ]
    }
   ],
   "source": [
    "trips.filter(trips.trip_distance > 5).select(\"fare_amount\").show() # add something here"
   ]
  },
  {
   "cell_type": "code",
   "execution_count": 23,
   "metadata": {},
   "outputs": [
    {
     "name": "stderr",
     "output_type": "stream",
     "text": [
      "25/05/08 11:12:38 WARN SparkStringUtils: Truncated the string representation of a plan since it was too large. This behavior can be adjusted by setting 'spark.sql.debug.maxToStringFields'.\n",
      "                                                                                \r"
     ]
    },
    {
     "name": "stdout",
     "output_type": "stream",
     "text": [
      "+-------+------------------+------------------+-----------------+------------------+------------------+------------------+------------------+------------------+------------------+------------------+-------------------+------------------+------------------+---------------------+-----------------+--------------------+-------------------+\n",
      "|summary|          VendorID|   passenger_count|    trip_distance|        RatecodeID|store_and_fwd_flag|      PULocationID|      DOLocationID|      payment_type|       fare_amount|             extra|            mta_tax|        tip_amount|      tolls_amount|improvement_surcharge|     total_amount|congestion_surcharge|        airport_fee|\n",
      "+-------+------------------+------------------+-----------------+------------------+------------------+------------------+------------------+------------------+------------------+------------------+-------------------+------------------+------------------+---------------------+-----------------+--------------------+-------------------+\n",
      "|  count|           2463931|           2392428|          2463931|           2392428|           2392428|           2463931|           2463931|           2463931|           2463931|           2463931|            2463931|           2463931|           2463931|              2463931|          2463931|             2392428|            2392428|\n",
      "|   mean| 1.707819334226486|1.3894533085217193| 5.37275119311366|1.4155067571521485|              NULL|166.07680937493785|163.58071553140084| 1.194449032866586|12.946484016795376|1.0067101432629406| 0.4914538921747404|2.3856955409873013|0.3749772660037505|   0.2967234066285709|19.16937009586583|   2.282322498315519|0.08249934794275941|\n",
      "| stddev|0.5021374727297668|0.9829685911276145|547.8714044600813| 5.917573265219833|              NULL| 65.46805744761048|  70.7901589008199|0.5001778217730759| 255.8148866371484|1.2362260656700204|0.08291560479693483| 2.830697971100425|1.6805380158244452| 0.043747407377596345|255.9640887564706|  0.7432039804760115| 0.3125554417761857|\n",
      "|    min|                 1|               0.0|              0.0|               1.0|                 N|                 1|                 1|                 0|            -480.0|              -4.5|               -0.5|           -125.22|             -31.4|                 -0.3|           -480.3|                -2.5|              -1.25|\n",
      "|    max|                 6|               9.0|        306159.28|              99.0|                 Y|               265|               265|                 5|         401092.32|              33.5|              16.59|            888.88|             193.3|                  0.3|        401095.62|                 2.5|               1.25|\n",
      "+-------+------------------+------------------+-----------------+------------------+------------------+------------------+------------------+------------------+------------------+------------------+-------------------+------------------+------------------+---------------------+-----------------+--------------------+-------------------+\n",
      "\n",
      "\n",
      "----Performance Data----\n",
      "Duration: 20.00\n",
      "\n",
      "CPU Util (Across CPUs)       \tAVG: 22.94\t MIN: 0.00\t MAX: 100.00\n",
      "Mem Util in GB (Across nodes)\tAVG: 220.76\t MIN: 220.36\t MAX: 223.14\n",
      "IO Ops (excl.) Read          \tTotal: 36317\n",
      "               Write         \tTotal: 4374\n",
      "IO Bytes (excl.) Read        \tTotal: 86.70\n",
      "                 Write       \tTotal: 1.19\n"
     ]
    }
   ],
   "source": [
    "#compute summary statistics\n",
    "trips.describe().show()"
   ]
  },
  {
   "attachments": {},
   "cell_type": "markdown",
   "metadata": {
    "editable": false,
    "slideshow": {
     "slide_type": ""
    },
    "tags": []
   },
   "source": [
    "# Exercise 5\n",
    "Find the distance for tips larger than $5  - Formulate a SQL query and apply it on the DataFrame."
   ]
  },
  {
   "cell_type": "code",
   "execution_count": 24,
   "metadata": {
    "editable": true,
    "slideshow": {
     "slide_type": ""
    },
    "tags": []
   },
   "outputs": [
    {
     "name": "stdout",
     "output_type": "stream",
     "text": [
      "+-------------+\n",
      "|trip_distance|\n",
      "+-------------+\n",
      "|          3.8|\n",
      "|          2.1|\n",
      "|         0.97|\n",
      "|         1.09|\n",
      "|          4.3|\n",
      "|         10.3|\n",
      "|         5.07|\n",
      "|         2.02|\n",
      "|         2.71|\n",
      "|         1.91|\n",
      "|         2.16|\n",
      "|         1.43|\n",
      "|         1.58|\n",
      "|          4.2|\n",
      "|          2.2|\n",
      "|          3.9|\n",
      "|          3.2|\n",
      "|          1.2|\n",
      "|          1.7|\n",
      "|          1.6|\n",
      "+-------------+\n",
      "only showing top 20 rows\n",
      "\n"
     ]
    }
   ],
   "source": [
    "query =  \"SELECT trip_distance FROM trips WHERE fare_amount>5\"# add something here\n",
    "sqlContext.sql(query).show()"
   ]
  },
  {
   "attachments": {},
   "cell_type": "markdown",
   "metadata": {
    "editable": false,
    "slideshow": {
     "slide_type": ""
    },
    "tags": []
   },
   "source": [
    "# Exercise 6\n",
    "Formulate a query to get sum of total amount of trip for distances larger than 30 miles."
   ]
  },
  {
   "cell_type": "code",
   "execution_count": 25,
   "metadata": {
    "editable": true,
    "slideshow": {
     "slide_type": ""
    },
    "tags": []
   },
   "outputs": [
    {
     "name": "stdout",
     "output_type": "stream",
     "text": [
      "+------------------+\n",
      "| sum(total_amount)|\n",
      "+------------------+\n",
      "|273382.60999999923|\n",
      "+------------------+\n",
      "\n"
     ]
    }
   ],
   "source": [
    "query = \"SELECT SUM(total_amount) FROM trips WHERE trip_distance>30\" # add something here\n",
    "sqlContext.sql(query).show()"
   ]
  },
  {
   "attachments": {},
   "cell_type": "markdown",
   "metadata": {
    "slideshow": {
     "slide_type": ""
    },
    "tags": []
   },
   "source": [
    "# Exercise 7\n",
    "Create a box-and-whisker plot of the numerical columns. What do these say about the data?"
   ]
  },
  {
   "cell_type": "code",
   "execution_count": 26,
   "metadata": {
    "editable": true,
    "slideshow": {
     "slide_type": ""
    },
    "tags": []
   },
   "outputs": [],
   "source": [
    "%matplotlib inline"
   ]
  },
  {
   "cell_type": "code",
   "execution_count": 27,
   "metadata": {},
   "outputs": [],
   "source": [
    "import matplotlib.pyplot as plt"
   ]
  },
  {
   "cell_type": "code",
   "execution_count": 28,
   "metadata": {
    "scrolled": true
   },
   "outputs": [
    {
     "name": "stderr",
     "output_type": "stream",
     "text": [
      "                                                                                \r"
     ]
    },
    {
     "name": "stdout",
     "output_type": "stream",
     "text": [
      "VendorID quantiles: [1.0, 1.0, 2.0, 2.0, 6.0]\n"
     ]
    },
    {
     "name": "stderr",
     "output_type": "stream",
     "text": [
      "                                                                                \r"
     ]
    },
    {
     "name": "stdout",
     "output_type": "stream",
     "text": [
      "passenger_count quantiles: [0.0, 1.0, 1.0, 1.0, 9.0]\n"
     ]
    },
    {
     "name": "stderr",
     "output_type": "stream",
     "text": [
      "                                                                                \r"
     ]
    },
    {
     "name": "stdout",
     "output_type": "stream",
     "text": [
      "trip_distance quantiles: [0.0, 1.06, 1.74, 3.16, 306159.28]\n"
     ]
    },
    {
     "name": "stderr",
     "output_type": "stream",
     "text": [
      "                                                                                \r"
     ]
    },
    {
     "name": "stdout",
     "output_type": "stream",
     "text": [
      "RatecodeID quantiles: [1.0, 1.0, 1.0, 1.0, 99.0]\n"
     ]
    },
    {
     "name": "stderr",
     "output_type": "stream",
     "text": [
      "                                                                                \r"
     ]
    },
    {
     "name": "stdout",
     "output_type": "stream",
     "text": [
      "PULocationID quantiles: [1.0, 132.0, 162.0, 236.0, 265.0]\n"
     ]
    },
    {
     "name": "stderr",
     "output_type": "stream",
     "text": [
      "                                                                                \r"
     ]
    },
    {
     "name": "stdout",
     "output_type": "stream",
     "text": [
      "DOLocationID quantiles: [1.0, 113.0, 162.0, 236.0, 265.0]\n"
     ]
    },
    {
     "name": "stderr",
     "output_type": "stream",
     "text": [
      "                                                                                \r"
     ]
    },
    {
     "name": "stdout",
     "output_type": "stream",
     "text": [
      "payment_type quantiles: [0.0, 1.0, 1.0, 1.0, 5.0]\n"
     ]
    },
    {
     "name": "stderr",
     "output_type": "stream",
     "text": [
      "                                                                                \r"
     ]
    },
    {
     "name": "stdout",
     "output_type": "stream",
     "text": [
      "fare_amount quantiles: [-480.0, 6.5, 9.0, 14.0, 401092.32]\n"
     ]
    },
    {
     "name": "stderr",
     "output_type": "stream",
     "text": [
      "                                                                                \r"
     ]
    },
    {
     "name": "stdout",
     "output_type": "stream",
     "text": [
      "extra quantiles: [-4.5, 0.0, 0.5, 2.5, 33.5]\n",
      "mta_tax quantiles: [-0.5, 0.5, 0.5, 0.5, 16.59]\n"
     ]
    },
    {
     "name": "stderr",
     "output_type": "stream",
     "text": [
      "                                                                                \r"
     ]
    },
    {
     "name": "stdout",
     "output_type": "stream",
     "text": [
      "tip_amount quantiles: [-125.22, 0.08, 2.0, 3.0, 888.88]\n",
      "tolls_amount quantiles: [-31.4, 0.0, 0.0, 0.0, 193.3]\n",
      "improvement_surcharge quantiles: [-0.3, 0.3, 0.3, 0.3, 0.3]\n"
     ]
    },
    {
     "name": "stderr",
     "output_type": "stream",
     "text": [
      "                                                                                \r"
     ]
    },
    {
     "name": "stdout",
     "output_type": "stream",
     "text": [
      "total_amount quantiles: [-480.3, 11.3, 14.55, 20.16, 401095.62]\n"
     ]
    },
    {
     "name": "stderr",
     "output_type": "stream",
     "text": [
      "                                                                                \r"
     ]
    },
    {
     "name": "stdout",
     "output_type": "stream",
     "text": [
      "congestion_surcharge quantiles: [-2.5, 2.5, 2.5, 2.5, 2.5]\n",
      "airport_fee quantiles: [-1.25, 0.0, 0.0, 0.0, 1.25]\n"
     ]
    },
    {
     "data": {
      "image/png": "[encoded data removed]",
      "text/plain": [
       "<Figure size 500x500 with 1 Axes>"
      ]
     },
     "metadata": {},
     "output_type": "display_data"
    },
    {
     "data": {
      "image/png": "[encoded data removed]",
      "text/plain": [
       "<Figure size 500x500 with 1 Axes>"
      ]
     },
     "metadata": {},
     "output_type": "display_data"
    },
    {
     "data": {
      "image/png": "[encoded data removed]",
      "text/plain": [
       "<Figure size 500x500 with 1 Axes>"
      ]
     },
     "metadata": {},
     "output_type": "display_data"
    },
    {
     "data": {
      "image/png": "[encoded data removed]",
      "text/plain": [
       "<Figure size 500x500 with 1 Axes>"
      ]
     },
     "metadata": {},
     "output_type": "display_data"
    },
    {
     "data": {
      "image/png": "[encoded data removed]",
      "text/plain": [
       "<Figure size 500x500 with 1 Axes>"
      ]
     },
     "metadata": {},
     "output_type": "display_data"
    },
    {
     "data": {
      "image/png": "[encoded data removed]",
      "text/plain": [
       "<Figure size 500x500 with 1 Axes>"
      ]
     },
     "metadata": {},
     "output_type": "display_data"
    },
    {
     "data": {
      "image/png": "[encoded data removed]",
      "text/plain": [
       "<Figure size 500x500 with 1 Axes>"
      ]
     },
     "metadata": {},
     "output_type": "display_data"
    },
    {
     "data": {
      "image/png": "[encoded data removed]",
      "text/plain": [
       "<Figure size 500x500 with 1 Axes>"
      ]
     },
     "metadata": {},
     "output_type": "display_data"
    },
    {
     "data": {
      "image/png": "[encoded data removed]",
      "text/plain": [
       "<Figure size 500x500 with 1 Axes>"
      ]
     },
     "metadata": {},
     "output_type": "display_data"
    },
    {
     "data": {
      "image/png": "[encoded data removed]",
      "text/plain": [
       "<Figure size 500x500 with 1 Axes>"
      ]
     },
     "metadata": {},
     "output_type": "display_data"
    },
    {
     "data": {
      "image/png": "[encoded data removed]",
      "text/plain": [
       "<Figure size 500x500 with 1 Axes>"
      ]
     },
     "metadata": {},
     "output_type": "display_data"
    },
    {
     "data": {
      "image/png": "[encoded data removed]",
      "text/plain": [
       "<Figure size 500x500 with 1 Axes>"
      ]
     },
     "metadata": {},
     "output_type": "display_data"
    },
    {
     "data": {
      "image/png": "[encoded data removed]",
      "text/plain": [
       "<Figure size 500x500 with 1 Axes>"
      ]
     },
     "metadata": {},
     "output_type": "display_data"
    },
    {
     "data": {
      "image/png": "[encoded data removed]",
      "text/plain": [
       "<Figure size 500x500 with 1 Axes>"
      ]
     },
     "metadata": {},
     "output_type": "display_data"
    },
    {
     "data": {
      "image/png": "[encoded data removed]",
      "text/plain": [
       "<Figure size 500x500 with 1 Axes>"
      ]
     },
     "metadata": {},
     "output_type": "display_data"
    },
    {
     "data": {
      "image/png": "[encoded data removed]",
      "text/plain": [
       "<Figure size 500x500 with 1 Axes>"
      ]
     },
     "metadata": {},
     "output_type": "display_data"
    },
    {
     "name": "stdout",
     "output_type": "stream",
     "text": [
      "\n",
      "----Performance Data----\n",
      "Duration: 15.90\n",
      "\n",
      "CPU Util (Across CPUs)       \tAVG: 30.01\t MIN: 4.00\t MAX: 100.00\n",
      "Mem Util in GB (Across nodes)\tAVG: 221.15\t MIN: 220.59\t MAX: 222.70\n",
      "IO Ops (excl.) Read          \tTotal: 37208\n",
      "               Write         \tTotal: 4655\n",
      "IO Bytes (excl.) Read        \tTotal: 86.78\n",
      "                 Write       \tTotal: 1.35\n"
     ]
    }
   ],
   "source": [
    "for column in trips.dtypes:\n",
    "    name = column[0]\n",
    "    colType = column[1]\n",
    "    if colType != 'string' and colType != 'timestamp' and colType != 'timestamp_ntz':\n",
    "        columnQuantiles = trips.approxQuantile(col=name,probabilities=[0.0,0.25,0.50,0.75,1.00],relativeError=0.01) # add something here\n",
    "        print(\"{} quantiles: {}\".format(name,columnQuantiles))\n",
    "        stats = [{\n",
    "            \"whislo\": columnQuantiles[0], # add something here\n",
    "            \"q1\": columnQuantiles[1], # add something here\n",
    "            \"med\": columnQuantiles[2], # add something here\n",
    "            \"q3\": columnQuantiles[3], # add something here\n",
    "            \"whishi\": columnQuantiles[4], # add something here\n",
    "        }]\n",
    "        fig, axes = plt.subplots(nrows=1, ncols=1, figsize=(5,5), sharey=True)\n",
    "        axes.bxp(bxpstats=stats, showfliers=False)\n",
    "        axes.grid(True)\n",
    "        axes.set_title(name)"
   ]
  },
  {
   "attachments": {},
   "cell_type": "markdown",
   "metadata": {
    "editable": false,
    "slideshow": {
     "slide_type": ""
    },
    "tags": []
   },
   "source": [
    "# Exercise 8\n",
    "Provide an overview over the number of trips per week day."
   ]
  },
  {
   "cell_type": "code",
   "execution_count": 29,
   "metadata": {
    "editable": true,
    "slideshow": {
     "slide_type": ""
    },
    "tags": []
   },
   "outputs": [],
   "source": [
    "def barchart(dataRows, titleSuffix):\n",
    "    positions = list(reversed(range(len(dataRows))))\n",
    "    names = [str(item[titleSuffix]) + \" (\" + str(item['count']) + \")\" for item in dataRows]\n",
    "    values = [item['count'] for item in dataRows]\n",
    "    plt.grid()\n",
    "    plt.barh(positions,values,align=\"center\")\n",
    "    plt.yticks(positions,names)\n",
    "    plt.xlabel(\"Number of trips\")\n",
    "    plt.title(\"Distribution of trips per \" + titleSuffix)\n",
    "    plt.show()"
   ]
  },
  {
   "cell_type": "code",
   "execution_count": 30,
   "metadata": {},
   "outputs": [
    {
     "name": "stdout",
     "output_type": "stream",
     "text": [
      "Help on method_descriptor:\n",
      "\n",
      "weekday(...)\n",
      "    Return the day of the week represented by the date.\n",
      "    Monday == 0 ... Sunday == 6\n",
      "\n"
     ]
    }
   ],
   "source": [
    "import datetime\n",
    "help(datetime.datetime.weekday)"
   ]
  },
  {
   "cell_type": "code",
   "execution_count": 31,
   "metadata": {},
   "outputs": [
    {
     "name": "stderr",
     "output_type": "stream",
     "text": [
      "                                                                                \r"
     ]
    },
    {
     "data": {
      "image/png": "[encoded data removed]",
      "text/plain": [
       "<Figure size 640x480 with 1 Axes>"
      ]
     },
     "metadata": {},
     "output_type": "display_data"
    },
    {
     "name": "stdout",
     "output_type": "stream",
     "text": [
      "\n",
      "----Performance Data----\n",
      "Duration: 21.06\n",
      "\n",
      "CPU Util (Across CPUs)       \tAVG: 16.00\t MIN: 0.00\t MAX: 100.00\n",
      "Mem Util in GB (Across nodes)\tAVG: 221.70\t MIN: 220.72\t MAX: 223.88\n",
      "IO Ops (excl.) Read          \tTotal: 39851\n",
      "               Write         \tTotal: 4822\n",
      "IO Bytes (excl.) Read        \tTotal: 91.58\n",
      "                 Write       \tTotal: 1.45\n"
     ]
    }
   ],
   "source": [
    "from pyspark.sql.functions import udf\n",
    "from pyspark.sql.functions import col\n",
    "from pyspark.sql.types import IntegerType\n",
    "import calendar\n",
    "\n",
    "#udf stands for user defined function\n",
    "@udf \n",
    "def weekdayStr(d):\n",
    "    return calendar.day_name[d.weekday()] # add something here\n",
    "\n",
    "@udf(returnType=IntegerType())\n",
    "def weekday(d):\n",
    "    return d.weekday()\n",
    "\n",
    "#Replace function weekday with function weekdayStr if you want.\n",
    "weekdayRows = trips.select(weekdayStr(trips.tpep_dropoff_datetime).alias(\"weekday\")).groupby(\"weekday\").count().collect() # add something here\n",
    "\n",
    "barchart(weekdayRows, \"weekday\")"
   ]
  },
  {
   "attachments": {},
   "cell_type": "markdown",
   "metadata": {
    "editable": false,
    "slideshow": {
     "slide_type": ""
    },
    "tags": []
   },
   "source": [
    "# Exercise 9\n",
    "Provide an overview over the number of trips per hour."
   ]
  },
  {
   "cell_type": "code",
   "execution_count": 32,
   "metadata": {
    "editable": true,
    "slideshow": {
     "slide_type": ""
    },
    "tags": []
   },
   "outputs": [
    {
     "name": "stderr",
     "output_type": "stream",
     "text": [
      "                                                                                \r"
     ]
    },
    {
     "data": {
      "image/png": "[encoded data removed]",
      "text/plain": [
       "<Figure size 640x480 with 1 Axes>"
      ]
     },
     "metadata": {},
     "output_type": "display_data"
    },
    {
     "name": "stdout",
     "output_type": "stream",
     "text": [
      "\n",
      "----Performance Data----\n",
      "Duration: 11.59\n",
      "\n",
      "CPU Util (Across CPUs)       \tAVG: 25.43\t MIN: 0.00\t MAX: 100.00\n",
      "Mem Util in GB (Across nodes)\tAVG: 221.26\t MIN: 221.07\t MAX: 221.98\n",
      "IO Ops (excl.) Read          \tTotal: 46157\n",
      "               Write         \tTotal: 4923\n",
      "IO Bytes (excl.) Read        \tTotal: 91.60\n",
      "                 Write       \tTotal: 1.49\n"
     ]
    }
   ],
   "source": [
    "@udf(returnType=IntegerType())\n",
    "def hour(d):\n",
    "    return d.hour\n",
    "\n",
    "hourRows = sorted(trips.select(hour(trips.tpep_dropoff_datetime).alias(\"hour\")).groupby(\"hour\").count().collect())# add something here\n",
    "\n",
    "barchart(hourRows, \"hour\")"
   ]
  },
  {
   "attachments": {},
   "cell_type": "markdown",
   "metadata": {
    "editable": false,
    "slideshow": {
     "slide_type": ""
    },
    "tags": []
   },
   "source": [
    "# Map Visualisations"
   ]
  },
  {
   "cell_type": "code",
   "execution_count": 33,
   "metadata": {},
   "outputs": [],
   "source": [
    "import leafmap"
   ]
  },
  {
   "cell_type": "code",
   "execution_count": 34,
   "metadata": {},
   "outputs": [],
   "source": [
    "def getMap():\n",
    "    map_args={\n",
    "        \"google_map\":\"HYBRID\",\n",
    "        #center to New York at 41 degrees north and 74 degrees west ([lat, lon])\n",
    "        \"center\":[40.702557, -74.012318],\n",
    "        \"zoom\":12,\n",
    "        \"height\":\"450px\",\n",
    "        \"width\":\"800px\",\n",
    "        \"max_zoom\":\"20\"\n",
    "    }\n",
    "    return leafmap.Map(**map_args)"
   ]
  },
  {
   "cell_type": "code",
   "execution_count": 35,
   "metadata": {
    "tags": []
   },
   "outputs": [
    {
     "data": {
      "application/vnd.jupyter.widget-view+json": {
       "model_id": "a9cddf7911394ac1abb27eda73756182",
       "version_major": 2,
       "version_minor": 0
      },
      "text/plain": [
       "Map(center=[40.702557, -74.012318], controls=(ZoomControl(options=['position', 'zoom_in_text', 'zoom_in_title'…"
      ]
     },
     "execution_count": 35,
     "metadata": {},
     "output_type": "execute_result"
    }
   ],
   "source": [
    "getMap()"
   ]
  },
  {
   "cell_type": "code",
   "execution_count": 36,
   "metadata": {
    "tags": []
   },
   "outputs": [],
   "source": [
    "def taxizoneColorFunction(taxiZonesIntensity, maximum_intensity, taxizoneFeature):\n",
    "    taxizoneId = taxizoneFeature[\"properties\"][\"LocationID\"]\n",
    "    taxizoneIntensity = taxiZonesIntensity[taxizoneId] if taxizoneId in taxiZonesIntensity else 0\n",
    "    return {\n",
    "        \"color\": \"black\",\n",
    "        \"fillColor\": '#%02X0000' % (int(taxizoneIntensity*255/maximum_intensity))\n",
    "    }\n",
    "def getTaxiZoneStylingFunction(taxiZonesIntensity):\n",
    "    maximum_intensity = max(taxiZonesIntensity.values())\n",
    "    return lambda x: taxizoneColorFunction(taxiZonesIntensity, maximum_intensity, x)"
   ]
  },
  {
   "cell_type": "code",
   "execution_count": 37,
   "metadata": {},
   "outputs": [],
   "source": [
    "taxizonesFile = base_directory+\"/taxizonesdata/taxi_zones.shp\" ############# has only zones till 263\n",
    "\n",
    "def getZoneCenters():\n",
    "    zone_centers={}\n",
    "    my_geojson = leafmap.shp_to_geojson(taxizonesFile)\n",
    "    \n",
    "    for feature in my_geojson[\"features\"]:\n",
    "        location = feature[\"properties\"][\"LocationID\"]\n",
    "        coordinates = feature[\"geometry\"][\"coordinates\"]\n",
    "        \n",
    "        avg_lat = 0\n",
    "        avg_lon = 0\n",
    "        count = 0\n",
    "        for coordinate_list in coordinates:\n",
    "            for coordinate in coordinate_list:\n",
    "                if type(coordinate) == tuple and len(coordinate) == 2: #############\n",
    "                    avg_lat += coordinate[1]\n",
    "                    avg_lon += coordinate[0]\n",
    "                    count += 1\n",
    "                elif len(coordinate) > 2: \n",
    "                    for coord in coordinate:\n",
    "                        avg_lat += coord[1]\n",
    "                        avg_lon += coord[0]\n",
    "                        count += 1\n",
    "                elif len(coordinate) < 2: #############\n",
    "                    print(coordinate)\n",
    "        avg_lat = avg_lat/count\n",
    "        avg_lon = avg_lon/count\n",
    "        zone_centers[location]=[avg_lat, avg_lon]\n",
    "    return zone_centers\n",
    "\n",
    "zoneCenters = getZoneCenters()"
   ]
  },
  {
   "cell_type": "code",
   "execution_count": 38,
   "metadata": {},
   "outputs": [],
   "source": [
    "def getHeatCenters(taxizoneIntensityMap):\n",
    "    heat_data=[]\n",
    "    for key, value in zoneCenters.items():\n",
    "        location = key\n",
    "        (lat, lon) = value\n",
    "        taxizoneIntensity = taxizoneIntensityMap[location] if location in taxizoneIntensityMap else 0\n",
    "        heat_data.append([lat, lon, taxizoneIntensity])\n",
    "    return heat_data"
   ]
  },
  {
   "attachments": {},
   "cell_type": "markdown",
   "metadata": {
    "editable": false,
    "slideshow": {
     "slide_type": ""
    },
    "tags": []
   },
   "source": [
    "# Exercise 10\n",
    "Get the number of trips which start/end in each zone."
   ]
  },
  {
   "cell_type": "code",
   "execution_count": 39,
   "metadata": {
    "editable": true,
    "slideshow": {
     "slide_type": ""
    },
    "tags": []
   },
   "outputs": [],
   "source": [
    "pickupData = trips.groupBy(\"PULocationID\").count().sort(\"PULocationID\").collect() #add something here\n",
    "dropoffData = trips.groupBy(\"DOLocationID\").count().sort(\"DOLocationID\").collect() #add something here\n",
    "grouped_by_pickup_location={row[\"PULocationID\"]:row[\"count\"] for row in pickupData}\n",
    "grouped_by_dropoff_location={row[\"DOLocationID\"]:row[\"count\"] for row in dropoffData}"
   ]
  },
  {
   "cell_type": "code",
   "execution_count": 40,
   "metadata": {},
   "outputs": [
    {
     "data": {
      "application/vnd.jupyter.widget-view+json": {
       "model_id": "5d856e561eb94a66bcb8cf9e6b5f5ac2",
       "version_major": 2,
       "version_minor": 0
      },
      "text/plain": [
       "Map(center=[40.702557, -74.012318], controls=(ZoomControl(options=['position', 'zoom_in_text', 'zoom_in_title'…"
      ]
     },
     "execution_count": 40,
     "metadata": {},
     "output_type": "execute_result"
    }
   ],
   "source": [
    "m = getMap()\n",
    "m.add_shp(in_shp=taxizonesFile,layer_name=\"taxizone\",style={},hover_style={}, style_callback=getTaxiZoneStylingFunction(grouped_by_pickup_location), fill_colors=None,\n",
    "              info_mode='on_hover')\n",
    "m.layer_opacity('taxizone', 0.9)\n",
    "m.add_heatmap(data=getHeatCenters(grouped_by_pickup_location), name='pickup_heat', radius=10)\n",
    "m.layer_opacity('pickup_heat', 0.9)\n",
    "m"
   ]
  },
  {
   "cell_type": "code",
   "execution_count": 41,
   "metadata": {},
   "outputs": [
    {
     "data": {
      "application/vnd.jupyter.widget-view+json": {
       "model_id": "01d6b38f83b3418b917dd24ebf6830e6",
       "version_major": 2,
       "version_minor": 0
      },
      "text/plain": [
       "Map(center=[40.702557, -74.012318], controls=(ZoomControl(options=['position', 'zoom_in_text', 'zoom_in_title'…"
      ]
     },
     "execution_count": 41,
     "metadata": {},
     "output_type": "execute_result"
    }
   ],
   "source": [
    "m = getMap()\n",
    "m.add_shp(in_shp=taxizonesFile,layer_name=\"taxizone\",style={},hover_style={}, style_callback=getTaxiZoneStylingFunction(grouped_by_dropoff_location), fill_colors=None,\n",
    "              info_mode='on_hover')\n",
    "m.layer_opacity('taxizone', 0.9)\n",
    "m.add_heatmap(data=getHeatCenters(grouped_by_dropoff_location), name='dropoff_heat', radius=10)\n",
    "m.layer_opacity('dropoff_heat', 0.9)\n",
    "m"
   ]
  },
  {
   "attachments": {},
   "cell_type": "markdown",
   "metadata": {
    "editable": false,
    "slideshow": {
     "slide_type": ""
    },
    "tags": []
   },
   "source": [
    "# Exercise 11\n",
    "Collect the trips with the 10 highest tips. Be careful not to use trips with zones which indicate \"Unknown\" or N/Avalues."
   ]
  },
  {
   "cell_type": "code",
   "execution_count": 42,
   "metadata": {
    "editable": true,
    "slideshow": {
     "slide_type": ""
    },
    "tags": []
   },
   "outputs": [],
   "source": [
    "import pyspark.sql.functions as F"
   ]
  },
  {
   "cell_type": "code",
   "execution_count": 43,
   "metadata": {},
   "outputs": [
    {
     "name": "stderr",
     "output_type": "stream",
     "text": [
      "                                                                                \r"
     ]
    }
   ],
   "source": [
    "zoneLookup = spark.read.csv(base_directory + \"/taxizonesdata/taxi_zone_lookup.csv\", header=True, inferSchema=True)"
   ]
  },
  {
   "cell_type": "code",
   "execution_count": 44,
   "metadata": {},
   "outputs": [
    {
     "name": "stdout",
     "output_type": "stream",
     "text": [
      "+----------+-------+----+------------+\n",
      "|LocationID|Borough|Zone|service_zone|\n",
      "+----------+-------+----+------------+\n",
      "|       264|Unknown| N/A|         N/A|\n",
      "+----------+-------+----+------------+\n",
      "\n",
      "+----------+-------+--------------+------------+\n",
      "|LocationID|Borough|          Zone|service_zone|\n",
      "+----------+-------+--------------+------------+\n",
      "|       265|    N/A|Outside of NYC|         N/A|\n",
      "+----------+-------+--------------+------------+\n",
      "\n"
     ]
    }
   ],
   "source": [
    "zoneLookup.filter(zoneLookup.Borough == \"Unknown\").show()\n",
    "zoneLookup.filter(zoneLookup.Borough == \"N/A\").show()"
   ]
  },
  {
   "cell_type": "code",
   "execution_count": 45,
   "metadata": {},
   "outputs": [
    {
     "data": {
      "text/plain": [
       "[('LocationID', 'int'),\n",
       " ('Borough', 'string'),\n",
       " ('Zone', 'string'),\n",
       " ('service_zone', 'string')]"
      ]
     },
     "execution_count": 45,
     "metadata": {},
     "output_type": "execute_result"
    }
   ],
   "source": [
    "zoneLookup.dtypes"
   ]
  },
  {
   "cell_type": "code",
   "execution_count": 46,
   "metadata": {},
   "outputs": [
    {
     "data": {
      "text/plain": [
       "[('VendorID', 'bigint'),\n",
       " ('tpep_pickup_datetime', 'timestamp_ntz'),\n",
       " ('tpep_dropoff_datetime', 'timestamp_ntz'),\n",
       " ('passenger_count', 'double'),\n",
       " ('trip_distance', 'double'),\n",
       " ('RatecodeID', 'double'),\n",
       " ('store_and_fwd_flag', 'string'),\n",
       " ('PULocationID', 'bigint'),\n",
       " ('DOLocationID', 'bigint'),\n",
       " ('payment_type', 'bigint'),\n",
       " ('fare_amount', 'double'),\n",
       " ('extra', 'double'),\n",
       " ('mta_tax', 'double'),\n",
       " ('tip_amount', 'double'),\n",
       " ('tolls_amount', 'double'),\n",
       " ('improvement_surcharge', 'double'),\n",
       " ('total_amount', 'double'),\n",
       " ('congestion_surcharge', 'double'),\n",
       " ('airport_fee', 'double')]"
      ]
     },
     "execution_count": 46,
     "metadata": {},
     "output_type": "execute_result"
    }
   ],
   "source": [
    "trips.dtypes"
   ]
  },
  {
   "cell_type": "code",
   "execution_count": 47,
   "metadata": {},
   "outputs": [
    {
     "name": "stdout",
     "output_type": "stream",
     "text": [
      "Help on method join in module pyspark.sql.dataframe:\n",
      "\n",
      "join(other: 'DataFrame', on: Union[str, List[str], pyspark.sql.column.Column, List[pyspark.sql.column.Column], NoneType] = None, how: Optional[str] = None) -> 'DataFrame' method of pyspark.sql.dataframe.DataFrame instance\n",
      "    Joins with another :class:`DataFrame`, using the given join expression.\n",
      "    \n",
      "    .. versionadded:: 1.3.0\n",
      "    \n",
      "    .. versionchanged:: 3.4.0\n",
      "        Supports Spark Connect.\n",
      "    \n",
      "    Parameters\n",
      "    ----------\n",
      "    other : :class:`DataFrame`\n",
      "        Right side of the join\n",
      "    on : str, list or :class:`Column`, optional\n",
      "        a string for the join column name, a list of column names,\n",
      "        a join expression (Column), or a list of Columns.\n",
      "        If `on` is a string or a list of strings indicating the name of the join column(s),\n",
      "        the column(s) must exist on both sides, and this performs an equi-join.\n",
      "    how : str, optional\n",
      "        default ``inner``. Must be one of: ``inner``, ``cross``, ``outer``,\n",
      "        ``full``, ``fullouter``, ``full_outer``, ``left``, ``leftouter``, ``left_outer``,\n",
      "        ``right``, ``rightouter``, ``right_outer``, ``semi``, ``leftsemi``, ``left_semi``,\n",
      "        ``anti``, ``leftanti`` and ``left_anti``.\n",
      "    \n",
      "    Returns\n",
      "    -------\n",
      "    :class:`DataFrame`\n",
      "        Joined DataFrame.\n",
      "    \n",
      "    Examples\n",
      "    --------\n",
      "    The following performs a full outer join between ``df1`` and ``df2``.\n",
      "    \n",
      "    >>> from pyspark.sql import Row\n",
      "    >>> from pyspark.sql.functions import desc\n",
      "    >>> df = spark.createDataFrame([(2, \"Alice\"), (5, \"Bob\")]).toDF(\"age\", \"name\")\n",
      "    >>> df2 = spark.createDataFrame([Row(height=80, name=\"Tom\"), Row(height=85, name=\"Bob\")])\n",
      "    >>> df3 = spark.createDataFrame([Row(age=2, name=\"Alice\"), Row(age=5, name=\"Bob\")])\n",
      "    >>> df4 = spark.createDataFrame([\n",
      "    ...     Row(age=10, height=80, name=\"Alice\"),\n",
      "    ...     Row(age=5, height=None, name=\"Bob\"),\n",
      "    ...     Row(age=None, height=None, name=\"Tom\"),\n",
      "    ...     Row(age=None, height=None, name=None),\n",
      "    ... ])\n",
      "    \n",
      "    Inner join on columns (default)\n",
      "    \n",
      "    >>> df.join(df2, 'name').select(df.name, df2.height).show()\n",
      "    +----+------+\n",
      "    |name|height|\n",
      "    +----+------+\n",
      "    | Bob|    85|\n",
      "    +----+------+\n",
      "    >>> df.join(df4, ['name', 'age']).select(df.name, df.age).show()\n",
      "    +----+---+\n",
      "    |name|age|\n",
      "    +----+---+\n",
      "    | Bob|  5|\n",
      "    +----+---+\n",
      "    \n",
      "    Outer join for both DataFrames on the 'name' column.\n",
      "    \n",
      "    >>> df.join(df2, df.name == df2.name, 'outer').select(\n",
      "    ...     df.name, df2.height).sort(desc(\"name\")).show()\n",
      "    +-----+------+\n",
      "    | name|height|\n",
      "    +-----+------+\n",
      "    |  Bob|    85|\n",
      "    |Alice|  NULL|\n",
      "    | NULL|    80|\n",
      "    +-----+------+\n",
      "    >>> df.join(df2, 'name', 'outer').select('name', 'height').sort(desc(\"name\")).show()\n",
      "    +-----+------+\n",
      "    | name|height|\n",
      "    +-----+------+\n",
      "    |  Tom|    80|\n",
      "    |  Bob|    85|\n",
      "    |Alice|  NULL|\n",
      "    +-----+------+\n",
      "    \n",
      "    Outer join for both DataFrams with multiple columns.\n",
      "    \n",
      "    >>> df.join(\n",
      "    ...     df3,\n",
      "    ...     [df.name == df3.name, df.age == df3.age],\n",
      "    ...     'outer'\n",
      "    ... ).select(df.name, df3.age).show()\n",
      "    +-----+---+\n",
      "    | name|age|\n",
      "    +-----+---+\n",
      "    |Alice|  2|\n",
      "    |  Bob|  5|\n",
      "    +-----+---+\n",
      "\n"
     ]
    }
   ],
   "source": [
    "help(trips.join)"
   ]
  },
  {
   "cell_type": "code",
   "execution_count": 48,
   "metadata": {},
   "outputs": [],
   "source": [
    "temporary = trips \\\n",
    "                .join(zoneLookup, trips.PULocationID == zoneLookup.LocationID) \\\n",
    "                .filter(zoneLookup.Borough != \"Unknown\") \\\n",
    "                .filter(zoneLookup.Borough != \"N/A\") \\\n",
    "                .filter(zoneLookup.Zone != \"N/A\") \\\n",
    "                .filter(zoneLookup.service_zone != \"N/A\") \\\n",
    "                .select(trips.columns)\n",
    "\n",
    "temporary = temporary \\\n",
    "                .alias(\"temporary\") \\\n",
    "                .join(zoneLookup.alias(\"zoneLookup\"),F.col(\"temporary.DOLocationID\") == F.col(\"zoneLookup.LocationID\")) \\\n",
    "                .filter(F.col(\"zoneLookup.Borough\") != \"Unknown\") \\\n",
    "                .filter(F.col(\"zoneLookup.Borough\") != \"N/A\") \\\n",
    "                .filter(F.col(\"zoneLookup.Zone\") != \"N/A\") \\\n",
    "                .filter(F.col(\"zoneLookup.service_zone\") != \"N/A\") \\\n",
    "                .select(F.col(\"temporary.*\"))"
   ]
  },
  {
   "cell_type": "code",
   "execution_count": 49,
   "metadata": {
    "scrolled": true
   },
   "outputs": [
    {
     "name": "stderr",
     "output_type": "stream",
     "text": [
      "                                                                                \r"
     ]
    },
    {
     "data": {
      "text/plain": [
       "[Row(VendorID=2, tpep_pickup_datetime=datetime.datetime(2022, 1, 29, 2, 23, 46), tpep_dropoff_datetime=datetime.datetime(2022, 1, 29, 2, 32, 6), passenger_count=1.0, trip_distance=1.32, RatecodeID=1.0, store_and_fwd_flag='N', PULocationID=79, DOLocationID=249, payment_type=1, fare_amount=7.0, extra=0.5, mta_tax=0.5, tip_amount=888.88, tolls_amount=0.0, improvement_surcharge=0.3, total_amount=899.68, congestion_surcharge=2.5, airport_fee=0.0),\n",
       " Row(VendorID=2, tpep_pickup_datetime=datetime.datetime(2022, 1, 15, 2, 27, 19), tpep_dropoff_datetime=datetime.datetime(2022, 1, 15, 2, 33, 34), passenger_count=5.0, trip_distance=1.3, RatecodeID=1.0, store_and_fwd_flag='N', PULocationID=79, DOLocationID=232, payment_type=1, fare_amount=6.5, extra=0.5, mta_tax=0.5, tip_amount=303.0, tolls_amount=0.0, improvement_surcharge=0.3, total_amount=313.3, congestion_surcharge=2.5, airport_fee=0.0),\n",
       " Row(VendorID=2, tpep_pickup_datetime=datetime.datetime(2022, 1, 23, 7, 35, 29), tpep_dropoff_datetime=datetime.datetime(2022, 1, 23, 8, 10, 12), passenger_count=1.0, trip_distance=2.31, RatecodeID=1.0, store_and_fwd_flag='N', PULocationID=132, DOLocationID=132, payment_type=1, fare_amount=22.5, extra=0.0, mta_tax=0.5, tip_amount=250.0, tolls_amount=0.0, improvement_surcharge=0.3, total_amount=274.55, congestion_surcharge=0.0, airport_fee=1.25),\n",
       " Row(VendorID=1, tpep_pickup_datetime=datetime.datetime(2022, 1, 27, 13, 57, 38), tpep_dropoff_datetime=datetime.datetime(2022, 1, 27, 14, 25, 11), passenger_count=1.0, trip_distance=15.5, RatecodeID=1.0, store_and_fwd_flag='N', PULocationID=70, DOLocationID=261, payment_type=1, fare_amount=41.5, extra=2.5, mta_tax=0.5, tip_amount=245.83, tolls_amount=6.55, improvement_surcharge=0.3, total_amount=297.18, congestion_surcharge=2.5, airport_fee=0.0),\n",
       " Row(VendorID=2, tpep_pickup_datetime=datetime.datetime(2022, 1, 6, 8, 52, 49), tpep_dropoff_datetime=datetime.datetime(2022, 1, 6, 9, 5, 12), passenger_count=2.0, trip_distance=2.22, RatecodeID=1.0, store_and_fwd_flag='N', PULocationID=234, DOLocationID=50, payment_type=1, fare_amount=10.0, extra=0.0, mta_tax=0.5, tip_amount=221.7, tolls_amount=0.0, improvement_surcharge=0.3, total_amount=235.0, congestion_surcharge=2.5, airport_fee=0.0),\n",
       " Row(VendorID=1, tpep_pickup_datetime=datetime.datetime(2022, 1, 23, 15, 33), tpep_dropoff_datetime=datetime.datetime(2022, 1, 23, 15, 33, 4), passenger_count=1.0, trip_distance=2.2, RatecodeID=1.0, store_and_fwd_flag='N', PULocationID=226, DOLocationID=226, payment_type=1, fare_amount=2.5, extra=0.0, mta_tax=0.5, tip_amount=200.0, tolls_amount=0.0, improvement_surcharge=0.3, total_amount=203.3, congestion_surcharge=0.0, airport_fee=0.0),\n",
       " Row(VendorID=2, tpep_pickup_datetime=datetime.datetime(2022, 1, 25, 6, 55, 47), tpep_dropoff_datetime=datetime.datetime(2022, 1, 25, 7, 3, 37), passenger_count=1.0, trip_distance=1.88, RatecodeID=1.0, store_and_fwd_flag='N', PULocationID=107, DOLocationID=141, payment_type=1, fare_amount=8.0, extra=0.0, mta_tax=0.5, tip_amount=200.0, tolls_amount=0.0, improvement_surcharge=0.3, total_amount=211.3, congestion_surcharge=2.5, airport_fee=0.0),\n",
       " Row(VendorID=1, tpep_pickup_datetime=datetime.datetime(2022, 1, 11, 11, 39, 17), tpep_dropoff_datetime=datetime.datetime(2022, 1, 11, 12, 26, 8), passenger_count=1.0, trip_distance=4.4, RatecodeID=1.0, store_and_fwd_flag='N', PULocationID=161, DOLocationID=161, payment_type=1, fare_amount=20.5, extra=2.5, mta_tax=0.5, tip_amount=150.0, tolls_amount=0.0, improvement_surcharge=0.3, total_amount=173.8, congestion_surcharge=2.5, airport_fee=0.0),\n",
       " Row(VendorID=2, tpep_pickup_datetime=datetime.datetime(2022, 1, 25, 14, 29, 5), tpep_dropoff_datetime=datetime.datetime(2022, 1, 25, 14, 33, 39), passenger_count=1.0, trip_distance=0.79, RatecodeID=1.0, store_and_fwd_flag='N', PULocationID=229, DOLocationID=233, payment_type=1, fare_amount=5.0, extra=0.0, mta_tax=0.5, tip_amount=125.22, tolls_amount=0.0, improvement_surcharge=0.3, total_amount=133.52, congestion_surcharge=2.5, airport_fee=0.0),\n",
       " Row(VendorID=2, tpep_pickup_datetime=datetime.datetime(2022, 1, 11, 13, 52, 11), tpep_dropoff_datetime=datetime.datetime(2022, 1, 11, 13, 52, 25), passenger_count=1.0, trip_distance=0.0, RatecodeID=1.0, store_and_fwd_flag='N', PULocationID=43, DOLocationID=43, payment_type=1, fare_amount=2.5, extra=0.0, mta_tax=0.5, tip_amount=120.0, tolls_amount=0.0, improvement_surcharge=0.3, total_amount=125.8, congestion_surcharge=2.5, airport_fee=0.0)]"
      ]
     },
     "execution_count": 49,
     "metadata": {},
     "output_type": "execute_result"
    }
   ],
   "source": [
    "# add something here to filter out Unknown values\n",
    "tripsWithHighestTips = temporary.orderBy(trips.tip_amount, ascending=False).limit(10).collect() # add something here to take the top 10 elements\n",
    "tripsWithHighestTips"
   ]
  },
  {
   "cell_type": "code",
   "execution_count": 50,
   "metadata": {},
   "outputs": [],
   "source": [
    "from geojson import FeatureCollection, Feature, LineString\n",
    "def to_lon_and_lat(latLonCoordinate):\n",
    "    return [latLonCoordinate[1],latLonCoordinate[0]]\n",
    "\n",
    "def trip_to_geojson(trip):\n",
    "    start_point = to_lon_and_lat(zoneCenters[trip[\"PULocationID\"]])\n",
    "    end_point = to_lon_and_lat(zoneCenters[trip[\"DOLocationID\"]])    \n",
    "    props = {\n",
    "        \"starttime\":trip[\"tpep_pickup_datetime\"].isoformat(),\n",
    "        \"startzone\":trip[\"PULocationID\"],\n",
    "        \"endtime\":trip[\"tpep_dropoff_datetime\"].isoformat(),\n",
    "        \"endzone\":trip[\"DOLocationID\"],\n",
    "    }\n",
    "    return Feature(geometry=LineString([start_point, end_point]), properties=props)\n",
    "    \n",
    "def tripList_to_geojson(tripList):\n",
    "    coll = FeatureCollection(list(map(lambda item: trip_to_geojson(item),tripList)))\n",
    "    return coll"
   ]
  },
  {
   "cell_type": "code",
   "execution_count": 51,
   "metadata": {},
   "outputs": [],
   "source": [
    "trip_geojson = tripList_to_geojson(tripsWithHighestTips)"
   ]
  },
  {
   "cell_type": "code",
   "execution_count": 52,
   "metadata": {},
   "outputs": [
    {
     "name": "stdout",
     "output_type": "stream",
     "text": [
      "{\"geometry\": {\"coordinates\": [[-73.986487, 40.726759], [-74.003081, 40.733811]], \"type\": \"LineString\"}, \"properties\": {\"endtime\": \"2022-01-29T02:32:06\", \"endzone\": 249, \"starttime\": \"2022-01-29T02:23:46\", \"startzone\": 79}, \"type\": \"Feature\"}\n",
      "{\"geometry\": {\"coordinates\": [[-73.986487, 40.726759], [-73.982954, 40.713594]], \"type\": \"LineString\"}, \"properties\": {\"endtime\": \"2022-01-15T02:33:34\", \"endzone\": 232, \"starttime\": \"2022-01-15T02:27:19\", \"startzone\": 79}, \"type\": \"Feature\"}\n",
      "{\"geometry\": {\"coordinates\": [[-73.783745, 40.639068], [-73.783745, 40.639068]], \"type\": \"LineString\"}, \"properties\": {\"endtime\": \"2022-01-23T08:10:12\", \"endzone\": 132, \"starttime\": \"2022-01-23T07:35:29\", \"startzone\": 132}, \"type\": \"Feature\"}\n",
      "{\"geometry\": {\"coordinates\": [[-73.865871, 40.763273], [-74.013983, 40.707456]], \"type\": \"LineString\"}, \"properties\": {\"endtime\": \"2022-01-27T14:25:11\", \"endzone\": 261, \"starttime\": \"2022-01-27T13:57:38\", \"startzone\": 70}, \"type\": \"Feature\"}\n",
      "{\"geometry\": {\"coordinates\": [[-73.990131, 40.73931], [-73.997474, 40.767838]], \"type\": \"LineString\"}, \"properties\": {\"endtime\": \"2022-01-06T09:05:12\", \"endzone\": 50, \"starttime\": \"2022-01-06T08:52:49\", \"startzone\": 234}, \"type\": \"Feature\"}\n",
      "{\"geometry\": {\"coordinates\": [[-73.925837, 40.727], [-73.925837, 40.727]], \"type\": \"LineString\"}, \"properties\": {\"endtime\": \"2022-01-23T15:33:04\", \"endzone\": 226, \"starttime\": \"2022-01-23T15:33:00\", \"startzone\": 226}, \"type\": \"Feature\"}\n",
      "{\"geometry\": {\"coordinates\": [[-73.984269, 40.736706], [-73.960113, 40.76562]], \"type\": \"LineString\"}, \"properties\": {\"endtime\": \"2022-01-25T07:03:37\", \"endzone\": 141, \"starttime\": \"2022-01-25T06:55:47\", \"startzone\": 107}, \"type\": \"Feature\"}\n",
      "{\"geometry\": {\"coordinates\": [[-73.97735, 40.757753], [-73.97735, 40.757753]], \"type\": \"LineString\"}, \"properties\": {\"endtime\": \"2022-01-11T12:26:08\", \"endzone\": 161, \"starttime\": \"2022-01-11T11:39:17\", \"startzone\": 161}, \"type\": \"Feature\"}\n",
      "{\"geometry\": {\"coordinates\": [[-73.964284, 40.755784], [-73.969564, 40.746299]], \"type\": \"LineString\"}, \"properties\": {\"endtime\": \"2022-01-25T14:33:39\", \"endzone\": 233, \"starttime\": \"2022-01-25T14:29:05\", \"startzone\": 229}, \"type\": \"Feature\"}\n",
      "{\"geometry\": {\"coordinates\": [[-73.966498, 40.781507], [-73.966498, 40.781507]], \"type\": \"LineString\"}, \"properties\": {\"endtime\": \"2022-01-11T13:52:25\", \"endzone\": 43, \"starttime\": \"2022-01-11T13:52:11\", \"startzone\": 43}, \"type\": \"Feature\"}\n",
      "FeatureCollection\n"
     ]
    }
   ],
   "source": [
    "for i in trip_geojson['features']:\n",
    "    print(i)\n",
    "\n",
    "print(trip_geojson['type'])"
   ]
  },
  {
   "cell_type": "code",
   "execution_count": 53,
   "metadata": {},
   "outputs": [
    {
     "data": {
      "application/vnd.jupyter.widget-view+json": {
       "model_id": "0d9a53fcd9bb46e8826d5acc1a6d7e8c",
       "version_major": 2,
       "version_minor": 0
      },
      "text/plain": [
       "Map(center=[40.702557, -74.012318], controls=(ZoomControl(options=['position', 'zoom_in_text', 'zoom_in_title'…"
      ]
     },
     "execution_count": 53,
     "metadata": {},
     "output_type": "execute_result"
    }
   ],
   "source": [
    "m = getMap()\n",
    "m.add_shp(in_shp=taxizonesFile,layer_name=\"taxizone\")\n",
    "m.layer_opacity('taxizone', 0.9)\n",
    "m.add_geojson(in_geojson=trip_geojson,layer_name=\"connections\", style={\"color\":\"red\", \"width\":\"4pt\"})\n",
    "m.layer_opacity('connections', 1.0)\n",
    "m"
   ]
  },
  {
   "cell_type": "code",
   "execution_count": 54,
   "metadata": {},
   "outputs": [
    {
     "name": "stdout",
     "output_type": "stream",
     "text": [
      "[INFO ] [08/05/2025 11:14:30] - Currently, following java processes are running:\n",
      "[INFO ] [08/05/2025 11:14:30] - \tProcess ID, Name \n",
      "[INFO ] [08/05/2025 11:14:30] - \t387621, SparkSubmit\n",
      "[INFO ] [08/05/2025 11:14:30] - \t387396, Master\n",
      "[INFO ] [08/05/2025 11:14:30] - \t387725, CoarseGrainedExecutorBackend\n",
      "[INFO ] [08/05/2025 11:14:30] - \t387464, Worker\n"
     ]
    }
   ],
   "source": [
    "# Check status of runnning java processes\n",
    "mycluster.check_status()"
   ]
  },
  {
   "cell_type": "code",
   "execution_count": 55,
   "metadata": {},
   "outputs": [
    {
     "name": "stdout",
     "output_type": "stream",
     "text": [
      "[INFO ] [08/05/2025 11:14:31] - Currently, following java processes are running:\n",
      "[INFO ] [08/05/2025 11:14:32] - \tProcess ID, Name \n",
      "[INFO ] [08/05/2025 11:14:32] - \t387621, SparkSubmit\n",
      "[INFO ] [08/05/2025 11:14:32] - \t387396, Master\n",
      "[INFO ] [08/05/2025 11:14:32] - \t387464, Worker\n"
     ]
    }
   ],
   "source": [
    "# Stopping spark context\n",
    "sc.stop()\n",
    "mycluster.check_status()"
   ]
  },
  {
   "cell_type": "code",
   "execution_count": 56,
   "metadata": {},
   "outputs": [
    {
     "name": "stdout",
     "output_type": "stream",
     "text": [
      "[INFO ] [08/05/2025 11:14:33] - Stopping SPARK cluster.\n",
      "[INFO ] [08/05/2025 11:14:36] - Logging cluster stopping info at: ./my-conf/spark/log/cluster.log\n",
      "Killing process SparkSubmit with PID 387621\n",
      "\n",
      "----Performance Data----\n",
      "Duration: 4.49\n",
      "\n",
      "CPU Util (Across CPUs)       \tAVG: 8.71\t MIN: 0.00\t MAX: 50.00\n",
      "Mem Util in GB (Across nodes)\tAVG: 220.47\t MIN: 220.20\t MAX: 220.82\n",
      "IO Ops (excl.) Read          \tTotal: 82609\n",
      "               Write         \tTotal: 6977\n",
      "IO Bytes (excl.) Read        \tTotal: 217.33\n",
      "                 Write       \tTotal: 2.26\n"
     ]
    }
   ],
   "source": [
    "mycluster.stop_cluster()\n",
    "kill_java_processes_by_name(\"SparkSubmit\")"
   ]
  },
  {
   "cell_type": "code",
   "execution_count": 57,
   "metadata": {},
   "outputs": [
    {
     "name": "stdout",
     "output_type": "stream",
     "text": [
      "[INFO ] [08/05/2025 11:14:38] - Currently, following java processes are running:\n",
      "[INFO ] [08/05/2025 11:14:39] - \tProcess ID, Name \n"
     ]
    }
   ],
   "source": [
    "mycluster.check_status()"
   ]
  },
  {
   "cell_type": "code",
   "execution_count": null,
   "metadata": {},
   "outputs": [],
   "source": []
  }
 ],
 "metadata": {
  "kernelspec": {
   "display_name": "ai4seismology-bigdata",
   "language": "python",
   "name": "ai4seismology-bigdata"
  },
  "language_info": {
   "file_extension": ".py",
   "mimetype": "text/plain",
   "name": "python"
  }
 },
 "nbformat": 4,
 "nbformat_minor": 4
}
